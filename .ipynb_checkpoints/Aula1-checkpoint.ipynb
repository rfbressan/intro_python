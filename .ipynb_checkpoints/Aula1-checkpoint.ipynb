{
 "cells": [
  {
   "cell_type": "code",
   "execution_count": 1,
   "metadata": {},
   "outputs": [
    {
     "name": "stdout",
     "output_type": "stream",
     "text": [
      "Hello World!!\n"
     ]
    }
   ],
   "source": [
    "print(\"Hello World!!\")"
   ]
  },
  {
   "cell_type": "code",
   "execution_count": 2,
   "metadata": {},
   "outputs": [
    {
     "data": {
      "text/plain": [
       "'C:\\\\Users\\\\03268897959\\\\Documents\\\\intro_python'"
      ]
     },
     "execution_count": 2,
     "metadata": {},
     "output_type": "execute_result"
    }
   ],
   "source": [
    "pwd"
   ]
  },
  {
   "cell_type": "code",
   "execution_count": 4,
   "metadata": {},
   "outputs": [
    {
     "name": "stdout",
     "output_type": "stream",
     "text": [
      " O volume na unidade C ‚ OS\n",
      " O N£mero de S‚rie do Volume ‚ 1C65-732C\n",
      "\n",
      " Pasta de C:\\Users\\03268897959\\Documents\\intro_python\n",
      "\n",
      "22/08/2018  14:36    <DIR>          .\n",
      "22/08/2018  14:36    <DIR>          ..\n",
      "22/08/2018  13:56    <DIR>          .ipynb_checkpoints\n",
      "22/08/2018  14:36             1.868 Aula1.ipynb\n",
      "22/08/2018  14:17               105 README.md\n",
      "               2 arquivo(s)          1.973 bytes\n",
      "               3 pasta(s)   923.572.174.848 bytes dispon¡veis\n"
     ]
    }
   ],
   "source": [
    "ls"
   ]
  },
  {
   "cell_type": "code",
   "execution_count": 10,
   "metadata": {},
   "outputs": [
    {
     "name": "stdout",
     "output_type": "stream",
     "text": [
      "Overwriting entrevista.py\n"
     ]
    }
   ],
   "source": [
    "%%file entrevista.py\n",
    "# Salva o código com o nome do arquivo\n",
    "\n",
    "primeiro_nome = str(input(\"Digite seu primeiro nome: \"))\n",
    "print(\"Bom dia \" + primeiro_nome)"
   ]
  },
  {
   "cell_type": "code",
   "execution_count": null,
   "metadata": {},
   "outputs": [],
   "source": [
    "# %load entrevista.py\n",
    "# Salva o código com o nome do arquivo\n",
    "\n",
    "primeiro_nome = str(input(\"Digite seu primeiro nome: \"))\n",
    "print(\"Bom dia \" + primeiro_nome)"
   ]
  },
  {
   "cell_type": "code",
   "execution_count": null,
   "metadata": {},
   "outputs": [],
   "source": []
  }
 ],
 "metadata": {
  "kernelspec": {
   "display_name": "Python 3",
   "language": "python",
   "name": "python3"
  },
  "language_info": {
   "codemirror_mode": {
    "name": "ipython",
    "version": 3
   },
   "file_extension": ".py",
   "mimetype": "text/x-python",
   "name": "python",
   "nbconvert_exporter": "python",
   "pygments_lexer": "ipython3",
   "version": "3.6.5"
  }
 },
 "nbformat": 4,
 "nbformat_minor": 2
}
