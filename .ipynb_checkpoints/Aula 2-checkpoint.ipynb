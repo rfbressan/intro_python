{
 "cells": [
  {
   "cell_type": "code",
   "execution_count": 8,
   "metadata": {},
   "outputs": [
    {
     "name": "stdout",
     "output_type": "stream",
     "text": [
      "<class 'int'>\n",
      "<class 'float'>\n",
      "<class 'complex'>\n"
     ]
    }
   ],
   "source": [
    "# Variáveis e tipos\n",
    "\n",
    "type(\"Alô Mundo\")\n",
    "a = 0\n",
    "b = 0.0\n",
    "c = complex(1, 2)\n",
    "\n",
    "print(type(a))\n",
    "print(type(b))\n",
    "print(type(c))\n"
   ]
  },
  {
   "cell_type": "code",
   "execution_count": 9,
   "metadata": {},
   "outputs": [
    {
     "name": "stdout",
     "output_type": "stream",
     "text": [
      "['False', 'None', 'True', 'and', 'as', 'assert', 'break', 'class', 'continue', 'def', 'del', 'elif', 'else', 'except', 'finally', 'for', 'from', 'global', 'if', 'import', 'in', 'is', 'lambda', 'nonlocal', 'not', 'or', 'pass', 'raise', 'return', 'try', 'while', 'with', 'yield']\n"
     ]
    }
   ],
   "source": [
    "# Palavras reservadas\n",
    "import keyword\n",
    "print(keyword.kwlist)"
   ]
  },
  {
   "cell_type": "code",
   "execution_count": 19,
   "metadata": {},
   "outputs": [
    {
     "name": "stdout",
     "output_type": "stream",
     "text": [
      "6\n",
      "6.666666666666667\n",
      "1\n",
      "2\n",
      "1\n"
     ]
    }
   ],
   "source": [
    "# Operadores \n",
    "print(2*3)\n",
    "print(20/3)\n",
    "print(5**0)\n",
    "print(7//3)\n",
    "print(5%2) # resto da divisao"
   ]
  },
  {
   "cell_type": "code",
   "execution_count": 11,
   "metadata": {},
   "outputs": [
    {
     "data": {
      "text/plain": [
       "21"
      ]
     },
     "execution_count": 11,
     "metadata": {},
     "output_type": "execute_result"
    }
   ],
   "source": [
    "# Ordem dos operadores\n",
    "# PEMDAS\n",
    "# parenteses, exponenciacao, multiplicacao, divisao, adicao e subtracao\n",
    "(1+1)**2*4+5"
   ]
  },
  {
   "cell_type": "code",
   "execution_count": 12,
   "metadata": {},
   "outputs": [
    {
     "name": "stdout",
     "output_type": "stream",
     "text": [
      "salada de frutascom bananas e maças\n"
     ]
    }
   ],
   "source": [
    "# operacao com strings. A soma é uma concatenacao\n",
    "a = \"salada de frutas\"\n",
    "b = \"com bananas e maças\"\n",
    "print(a + b)"
   ]
  },
  {
   "cell_type": "code",
   "execution_count": 13,
   "metadata": {},
   "outputs": [
    {
     "name": "stdout",
     "output_type": "stream",
     "text": [
      "com bananas e maçascom bananas e maçascom bananas e maças\n"
     ]
    }
   ],
   "source": [
    "# Multiplicacao de strings é replicacao\n",
    "print(3*b)"
   ]
  },
  {
   "cell_type": "code",
   "execution_count": 16,
   "metadata": {},
   "outputs": [
    {
     "name": "stdout",
     "output_type": "stream",
     "text": [
      "True\n",
      "False\n"
     ]
    }
   ],
   "source": [
    "# Booleanos\n",
    "# True e False\n",
    "\n",
    "print(str(5==5))\n",
    "print(str(6 < 5))"
   ]
  },
  {
   "cell_type": "code",
   "execution_count": 17,
   "metadata": {},
   "outputs": [],
   "source": [
    "# Operadores\n",
    "# == igual\n",
    "# != diferente\n",
    "# > maior que\n",
    "# < menor que\n",
    "# >= maior igual\n",
    "# <= menor igual"
   ]
  },
  {
   "cell_type": "code",
   "execution_count": 22,
   "metadata": {},
   "outputs": [
    {
     "data": {
      "text/plain": [
       "False"
      ]
     },
     "execution_count": 22,
     "metadata": {},
     "output_type": "execute_result"
    }
   ],
   "source": [
    "# Operadores lógicos\n",
    "n = 5\n",
    "n%2 == 0 or n%3 == 0"
   ]
  },
  {
   "cell_type": "code",
   "execution_count": 23,
   "metadata": {},
   "outputs": [
    {
     "data": {
      "text/plain": [
       "True"
      ]
     },
     "execution_count": 23,
     "metadata": {},
     "output_type": "execute_result"
    }
   ],
   "source": [
    "2 < 4 < 5"
   ]
  },
  {
   "cell_type": "code",
   "execution_count": 25,
   "metadata": {},
   "outputs": [
    {
     "data": {
      "text/plain": [
       "False"
      ]
     },
     "execution_count": 25,
     "metadata": {},
     "output_type": "execute_result"
    }
   ],
   "source": [
    "not(5 > 3)"
   ]
  },
  {
   "cell_type": "code",
   "execution_count": 28,
   "metadata": {},
   "outputs": [
    {
     "name": "stdout",
     "output_type": "stream",
     "text": [
      "fjasjlfa\n"
     ]
    },
    {
     "ename": "ValueError",
     "evalue": "invalid literal for int() with base 10: 'fjasjlfa'",
     "output_type": "error",
     "traceback": [
      "\u001b[0;31m---------------------------------------------------------------------------\u001b[0m",
      "\u001b[0;31mValueError\u001b[0m                                Traceback (most recent call last)",
      "\u001b[0;32m<ipython-input-28-908e672dd13a>\u001b[0m in \u001b[0;36m<module>\u001b[0;34m()\u001b[0m\n\u001b[0;32m----> 1\u001b[0;31m \u001b[0mentrada\u001b[0m \u001b[0;34m=\u001b[0m \u001b[0mint\u001b[0m\u001b[0;34m(\u001b[0m\u001b[0minput\u001b[0m\u001b[0;34m(\u001b[0m\u001b[0;34m)\u001b[0m\u001b[0;34m)\u001b[0m\u001b[0;34m\u001b[0m\u001b[0m\n\u001b[0m\u001b[1;32m      2\u001b[0m \u001b[0mprint\u001b[0m\u001b[0;34m(\u001b[0m\u001b[0mentrada\u001b[0m\u001b[0;34m)\u001b[0m\u001b[0;34m\u001b[0m\u001b[0m\n",
      "\u001b[0;31mValueError\u001b[0m: invalid literal for int() with base 10: 'fjasjlfa'"
     ]
    }
   ],
   "source": [
    "entrada = int(input())\n",
    "print(entrada)"
   ]
  },
  {
   "cell_type": "code",
   "execution_count": 30,
   "metadata": {},
   "outputs": [
    {
     "name": "stdout",
     "output_type": "stream",
     "text": [
      "Entre com mes e ano de seu nascimento (mm aa):1980 05\n",
      "Mês: 1980 \n",
      "Ano: 05\n"
     ]
    }
   ],
   "source": [
    "mes, ano = input(\"Entre com mes e ano de seu nascimento (mm aa):\").split()\n",
    "print(\"Mês:\", mes, \"\\nAno:\", ano)"
   ]
  },
  {
   "cell_type": "markdown",
   "metadata": {},
   "source": [
    "# Execução Condicional"
   ]
  },
  {
   "cell_type": "code",
   "execution_count": 36,
   "metadata": {},
   "outputs": [
    {
     "name": "stdout",
     "output_type": "stream",
     "text": [
      "Informe um número:0\n",
      "Número é par\n"
     ]
    }
   ],
   "source": [
    "num = int(input(\"Informe um número:\"))\n",
    "if num % 2 == 0:\n",
    "    print(\"Número é par\")\n",
    "else:\n",
    "    print(\"Número é ímpar\")"
   ]
  },
  {
   "cell_type": "code",
   "execution_count": 48,
   "metadata": {},
   "outputs": [
    {
     "name": "stdout",
     "output_type": "stream",
     "text": [
      "Entre com seu ano e mês de nascimento (aaaa mm):1980 4\n",
      "Sua idade é: 38 anos.\n"
     ]
    }
   ],
   "source": [
    "from datetime import date\n",
    "\n",
    "data = date.today()\n",
    "\n",
    "ano, mes = input(\"Entre com seu ano e mês de nascimento (aaaa mm):\").split()\n",
    "ano, mes = int(ano), int(mes)\n",
    "if mes < data.month:\n",
    "    idade = data.year - ano\n",
    "else:\n",
    "    idade = data.year - ano - 1\n",
    "print(\"Sua idade é:\", idade, \"anos.\")"
   ]
  },
  {
   "cell_type": "code",
   "execution_count": 47,
   "metadata": {},
   "outputs": [
    {
     "name": "stdout",
     "output_type": "stream",
     "text": [
      "Informe dois numeros inteiros:6 6\n",
      "6 é igual a 6\n"
     ]
    }
   ],
   "source": [
    "x, y = input(\"Informe dois numeros inteiros:\").split()\n",
    "x, y = int(x), int(y)\n",
    "if x < y:\n",
    "    print(x, \"é menor que\", y)\n",
    "elif x > y:\n",
    "    print(x, \"é maior que\", y)\n",
    "else:\n",
    "    print(x, \"é igual a\", y)"
   ]
  },
  {
   "cell_type": "code",
   "execution_count": 49,
   "metadata": {},
   "outputs": [
    {
     "name": "stdout",
     "output_type": "stream",
     "text": [
      "Entre com seu ano e mês de nascimento (dd/mm/aaaa):04/01/1980\n",
      "Sua idade é: 38 anos.\n"
     ]
    }
   ],
   "source": [
    "from datetime import date\n",
    "\n",
    "data = date.today()\n",
    "\n",
    "dia, mes, ano = input(\"Entre com seu ano e mês de nascimento (dd/mm/aaaa):\").split(\"/\")\n",
    "dia, mes, ano = int(dia), int(mes), int(ano) \n",
    "if mes < data.month:\n",
    "    idade = data.year - ano\n",
    "elif mes > data.month:\n",
    "    idade = data.year - ano - 1\n",
    "else:\n",
    "    if dia <= data.day:\n",
    "        idade = data.year - ano\n",
    "    else:\n",
    "        idade = data.year - ano - 1\n",
    "    \n",
    "print(\"Sua idade é:\", idade, \"anos.\")"
   ]
  }
 ],
 "metadata": {
  "kernelspec": {
   "display_name": "Python 3",
   "language": "python",
   "name": "python3"
  },
  "language_info": {
   "codemirror_mode": {
    "name": "ipython",
    "version": 3
   },
   "file_extension": ".py",
   "mimetype": "text/x-python",
   "name": "python",
   "nbconvert_exporter": "python",
   "pygments_lexer": "ipython3",
   "version": "3.6.5"
  }
 },
 "nbformat": 4,
 "nbformat_minor": 2
}
