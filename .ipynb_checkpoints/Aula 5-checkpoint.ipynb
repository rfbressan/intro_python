{
 "cells": [
  {
   "cell_type": "markdown",
   "metadata": {},
   "source": [
    "# Aula 5 - Iteração"
   ]
  },
  {
   "cell_type": "markdown",
   "metadata": {},
   "source": [
    "## Revisão Aula 4 - exercícios"
   ]
  },
  {
   "cell_type": "markdown",
   "metadata": {},
   "source": [
    "### Escrever funções para o coeficiente angular e linear da reta e uma função para dar a equação da reta"
   ]
  },
  {
   "cell_type": "code",
   "execution_count": 4,
   "metadata": {},
   "outputs": [],
   "source": [
    "def coefangular (x1, y1, x2, y2):\n",
    "    if x1 - x2 != 0:\n",
    "        return (y1 - y2) / (x1 - x2)\n",
    "    else:\n",
    "        return \"Reta paralela ao eixo y.\""
   ]
  },
  {
   "cell_type": "code",
   "execution_count": 5,
   "metadata": {},
   "outputs": [],
   "source": [
    "def coeflinear (x1, y1, x2, y2):\n",
    "    if x1 - x2 != 0:\n",
    "        return y1 - coefangular(x1, y1, x2, y2) * x1\n",
    "    else:\n",
    "        return \"Reta paralela ao eixo y.\""
   ]
  },
  {
   "cell_type": "code",
   "execution_count": 6,
   "metadata": {},
   "outputs": [],
   "source": [
    "def eq_reta(x1, y1, x2, y2):\n",
    "    if x1 - x2 != 0:\n",
    "        return print(\"Equação da reta é y =\", coefangular(x1, y1, x2, y2), \"x +\", coeflinear(x1, y1, x2, y2))\n",
    "    else:\n",
    "        return print(\"Equação da reta é x =\", x1)"
   ]
  },
  {
   "cell_type": "code",
   "execution_count": 8,
   "metadata": {},
   "outputs": [
    {
     "name": "stdout",
     "output_type": "stream",
     "text": [
      "Equação da reta é y = 1.0 x + 1.0\n"
     ]
    }
   ],
   "source": [
    "eq_reta(2,3,4,5)"
   ]
  },
  {
   "cell_type": "code",
   "execution_count": 9,
   "metadata": {},
   "outputs": [
    {
     "name": "stdout",
     "output_type": "stream",
     "text": [
      "Equação da reta é x = 2\n"
     ]
    }
   ],
   "source": [
    "eq_reta(2,4, 2, 5)"
   ]
  },
  {
   "cell_type": "markdown",
   "metadata": {},
   "source": [
    "### Loop For"
   ]
  },
  {
   "cell_type": "code",
   "execution_count": 22,
   "metadata": {},
   "outputs": [],
   "source": [
    "def imprime_numeros(ni, nf):\n",
    "    for i in range(ni, nf + 1, 2):\n",
    "        print(i)"
   ]
  },
  {
   "cell_type": "code",
   "execution_count": 23,
   "metadata": {},
   "outputs": [
    {
     "name": "stdout",
     "output_type": "stream",
     "text": [
      "1\n",
      "3\n",
      "5\n",
      "7\n",
      "9\n"
     ]
    }
   ],
   "source": [
    "imprime_numeros(1, 10)"
   ]
  },
  {
   "cell_type": "code",
   "execution_count": 26,
   "metadata": {},
   "outputs": [
    {
     "name": "stdout",
     "output_type": "stream",
     "text": [
      "10\n",
      "9\n",
      "8\n",
      "7\n",
      "6\n",
      "5\n",
      "4\n",
      "3\n",
      "2\n",
      "1\n"
     ]
    }
   ],
   "source": [
    "for i in range(10, 0, -1):\n",
    "    print(i)"
   ]
  },
  {
   "cell_type": "markdown",
   "metadata": {},
   "source": [
    "### Função fatorial"
   ]
  },
  {
   "cell_type": "code",
   "execution_count": 43,
   "metadata": {},
   "outputs": [],
   "source": [
    "def fatorial(n):\n",
    "    if n < 0:\n",
    "        return \"Não existe fatorial de número negativo.\"\n",
    "    fat = 1\n",
    "    while n != 0:\n",
    "        fat = fat * n\n",
    "        n = n - 1\n",
    "    \n",
    "    return fat"
   ]
  },
  {
   "cell_type": "code",
   "execution_count": 44,
   "metadata": {},
   "outputs": [
    {
     "data": {
      "text/plain": [
       "120"
      ]
     },
     "execution_count": 44,
     "metadata": {},
     "output_type": "execute_result"
    }
   ],
   "source": [
    "fatorial(5)"
   ]
  },
  {
   "cell_type": "code",
   "execution_count": 45,
   "metadata": {},
   "outputs": [
    {
     "data": {
      "text/plain": [
       "1"
      ]
     },
     "execution_count": 45,
     "metadata": {},
     "output_type": "execute_result"
    }
   ],
   "source": [
    "fatorial(0)"
   ]
  },
  {
   "cell_type": "code",
   "execution_count": 46,
   "metadata": {},
   "outputs": [
    {
     "data": {
      "text/plain": [
       "'Não existe fatorial de número negativo.'"
      ]
     },
     "execution_count": 46,
     "metadata": {},
     "output_type": "execute_result"
    }
   ],
   "source": [
    "fatorial(-1)"
   ]
  },
  {
   "cell_type": "markdown",
   "metadata": {},
   "source": [
    "### Tabelas bi-dimensionais"
   ]
  },
  {
   "cell_type": "code",
   "execution_count": 52,
   "metadata": {},
   "outputs": [],
   "source": [
    "def tabela_multiplos(linhas, colunas):\n",
    "    for i in range(0, linhas + 1):\n",
    "        print(i, \"\\t\", end = \"\")\n",
    "        for j in range(1, colunas + 1):\n",
    "            if i == 0:\n",
    "                print(j, \"\\t\", end = \"\")\n",
    "            else:\n",
    "                print(i*j, \"\\t\", end = \"\")\n",
    "        print(\"\\n\")\n"
   ]
  },
  {
   "cell_type": "code",
   "execution_count": 57,
   "metadata": {},
   "outputs": [
    {
     "name": "stdout",
     "output_type": "stream",
     "text": [
      "0 \t1 \t2 \t3 \t4 \t5 \t\n",
      "\n",
      "1 \t1 \t2 \t3 \t4 \t5 \t\n",
      "\n",
      "2 \t2 \t4 \t6 \t8 \t10 \t\n",
      "\n",
      "3 \t3 \t6 \t9 \t12 \t15 \t\n",
      "\n",
      "4 \t4 \t8 \t12 \t16 \t20 \t\n",
      "\n",
      "5 \t5 \t10 \t15 \t20 \t25 \t\n",
      "\n"
     ]
    }
   ],
   "source": [
    "tabela_multiplos(5,5)"
   ]
  },
  {
   "cell_type": "code",
   "execution_count": null,
   "metadata": {},
   "outputs": [],
   "source": []
  }
 ],
 "metadata": {
  "kernelspec": {
   "display_name": "Python 3",
   "language": "python",
   "name": "python3"
  },
  "language_info": {
   "codemirror_mode": {
    "name": "ipython",
    "version": 3
   },
   "file_extension": ".py",
   "mimetype": "text/x-python",
   "name": "python",
   "nbconvert_exporter": "python",
   "pygments_lexer": "ipython3",
   "version": "3.6.5"
  }
 },
 "nbformat": 4,
 "nbformat_minor": 2
}
